{
 "cells": [
  {
   "cell_type": "code",
   "execution_count": null,
   "metadata": {
    "collapsed": true
   },
   "outputs": [],
   "source": [
    "import pyaudio, wave, sys\n",
    "import struct\n",
    "import numpy as np\n",
    "import matplotlib.pyplot as plt\n",
    "import matplotlib as mpl\n",
    "import seaborn as sns\n",
    "from scipy.fftpack import fft\n",
    "\n",
    "#open new window\n",
    "%matplotlib tk\n",
    "\n",
    "#number of audio samples per frame displayed\n",
    "#4096 samples per chunk\n",
    "CHUNK = 1024*4 #lower chunk size=more samples per frame, increases refresh rate\n",
    "FORMAT = pyaudio.paInt16 #bytes per sample (audio format)\n",
    "CHANNELS = 1 #monosound\n",
    "\n",
    "RATE = 44100 #sampling frequency in hz. #samples per second "
   ]
  },
  {
   "cell_type": "code",
   "execution_count": null,
   "metadata": {
    "collapsed": true
   },
   "outputs": [],
   "source": [
    "import random, time\n",
    "from tkinter import TclError"
   ]
  },
  {
   "cell_type": "code",
   "execution_count": null,
   "metadata": {
    "collapsed": true
   },
   "outputs": [],
   "source": [
    "# open the file for reading.\n",
    "audio_path = \"ukiyo.wav\"\n",
    "wf = wave.open(audio_path, 'rb')\n",
    "\n",
    "# create an audio object\n",
    "p = pyaudio.PyAudio()\n",
    "\n",
    "\n",
    "stream=p.open(format=p.get_format_from_width(wf.getsampwidth()), \n",
    "              channels=wf.getnchannels(), rate=wf.getframerate(), input=True, \n",
    "             output=True, frames_per_buffer=1024)"
   ]
  },
  {
   "cell_type": "code",
   "execution_count": null,
   "metadata": {},
   "outputs": [],
   "source": [
    "files_seconds = wf.getnframes()/RATE #length of wav file\n",
    "files_seconds"
   ]
  },
  {
   "cell_type": "code",
   "execution_count": null,
   "metadata": {},
   "outputs": [],
   "source": [
    "#get \"y range\" of audio file to normalize y-axis so that the wave appears in a reasonable size\n",
    "'''actual range input values will depend on a number of factors outside of the control any audio API. \n",
    "Things like the microphone you're using, how loudly people speak and any amplifiers or other devices that \n",
    "might be in between the microphone and ADC that converts the analogue audio to digital. \n",
    "You'll probably need to calibrate your setup so that it uses a useful portion of the digital sample range\n",
    "'''\n",
    "\n",
    "def y_range(filename): \n",
    "    wf = wave.open(filename, 'rb')\n",
    "    x=[]\n",
    "    count = 0\n",
    "    #count = 1044 for  mazurka\n",
    "    #coutn = 3000 for ukiyo?\n",
    "    while count <= (int(wf.getnframes()/CHUNK)):\n",
    "        data = wf.readframes(CHUNK) #read 1 chunk\n",
    "        #data_int = np.array(struct.unpack(str(4*CHUNK) + 'B', data), dtype='b')[::2]+300\n",
    "        data_int = np.frombuffer(data, dtype=np.int16)  #frombuffer also works \n",
    "        x.append(data_int)\n",
    "        count=count+1\n",
    "    \n",
    "    result=[]\n",
    "    for list in x:\n",
    "        result.append(min(list))\n",
    "        result.append(max(list))\n",
    "\n",
    "    y_max = np.amax(result)\n",
    "    y_min = np.amin(result)\n",
    "    return y_max, y_min"
   ]
  },
  {
   "cell_type": "code",
   "execution_count": null,
   "metadata": {},
   "outputs": [],
   "source": []
  },
  {
   "cell_type": "code",
   "execution_count": null,
   "metadata": {},
   "outputs": [],
   "source": [
    "mpl.style.use('seaborn')\n",
    "sns.set(style=\"darkgrid\")\n",
    "fig, (ax, ax2) = plt.subplots(2)\n",
    "\n",
    "x=np.arange(0, 16*CHUNK, 8) #step size 2\n",
    "x_fft = np.linspace(0, RATE, CHUNK)\n",
    "\n",
    "line, = ax.plot(x, (np.random.rand(2*CHUNK)), '-', lw=1)\n",
    "#line_fft, = ax2.plot(x_fft, np.random.rand(CHUNK), '-', lw=2)\n",
    "#change to log scale\n",
    "line_fft, = ax2.semilogx(x_fft, np.random.rand(CHUNK), '-', lw=1)\n",
    "\n",
    "ax.set_ylim(y_range(audio_path))\n",
    "ax.set_xlim(0, CHUNK/2)\n",
    "#ax.get_xaxis().set_visible(False)\n",
    "#ax.get_yaxis().set_visible(False)\n",
    "#ax.yaxis.set_ticklabels([])\n",
    "ax.patch.set_facecolor('black')\n",
    "ax.patch.set_alpha(.5) #transparency\n",
    "plt.setp(ax, xticks=[0, CHUNK/2], yticks=[y_min, y_max])\n",
    "\n",
    "ax2.set_xlim(20,RATE/2)\n",
    "ax2.get_xaxis().set_visible(False)\n",
    "ax2.yaxis.set_ticklabels([])\n",
    "ax2.patch.set_facecolor('black')\n",
    "ax2.patch.set_alpha(.5) #transparency\n",
    "\n",
    "line.set_color(\"white\")\n",
    "line_fft.set_color(\"white\")\n",
    "\n",
    "colors = [\"#330099\", \"#333399\", \"#3300CC\", \"#3333CC\", \"#333099\", \n",
    "       \"#333999\", \"#400099\", \"#260099\"]\n",
    "\n",
    "\n",
    "frame_count=0\n",
    "start_time=time.time()\n",
    "\n",
    "\n",
    "while True:\n",
    "    data = wf.readframes(CHUNK) #read 1 chunk\n",
    "    #data_int = np.array(struct.unpack(str(4*CHUNK) + 'B', data), dtype='b')[::2]+300\n",
    "    data_int = np.fromstring(data, dtype=np.int16)  #frombuffer also works\n",
    "    \n",
    "    line.set_ydata(data_int)\n",
    "    \n",
    "    y_fft = fft(data_int)\n",
    "    #slice and rescale\n",
    "    line_fft.set_ydata(np.abs(y_fft[0:CHUNK])*2 / (10000 * CHUNK)) \n",
    "    #amplitude = 256, # of bins = CHUNK\n",
    "    \n",
    "    try:\n",
    "        fig.canvas.draw()\n",
    "        fig.canvas.flush_events()\n",
    "        \n",
    "        #write to stream to play sound\n",
    "        stream.write(data)\n",
    "        frame_count = frame_count + 1\n",
    "        \n",
    "        #random background color\n",
    "        ax.patch.set_facecolor(random.choice(colors))\n",
    "        ax2.patch.set_facecolor(random.choice(colors))\n",
    "   \n",
    "    \n",
    "    \n",
    "    except TclError:\n",
    "        frame_rate = frame_count/(time.time() - start_time)\n",
    "        print(\"stream stopped\")\n",
    "        print('average frame rate = {:.0f} FPS'.format(frame_rate))\n",
    "        break\n",
    "            \n",
    "\n",
    "\n",
    "# cleanup stuff.\n",
    "#stream.close()    \n",
    "#p.terminate()"
   ]
  },
  {
   "cell_type": "code",
   "execution_count": null,
   "metadata": {
    "collapsed": true
   },
   "outputs": [],
   "source": [
    "plt.plot((fft(np.sin(2 * x))))"
   ]
  },
  {
   "cell_type": "code",
   "execution_count": null,
   "metadata": {
    "collapsed": true
   },
   "outputs": [],
   "source": []
  }
 ],
 "metadata": {
  "kernelspec": {
   "display_name": "Python 3",
   "language": "python",
   "name": "python3"
  },
  "language_info": {
   "codemirror_mode": {
    "name": "ipython",
    "version": 3
   },
   "file_extension": ".py",
   "mimetype": "text/x-python",
   "name": "python",
   "nbconvert_exporter": "python",
   "pygments_lexer": "ipython3",
   "version": "3.6.3"
  }
 },
 "nbformat": 4,
 "nbformat_minor": 2
}
