{
 "cells": [
  {
   "cell_type": "code",
   "execution_count": 2,
   "metadata": {},
   "outputs": [],
   "source": [
    "import pyaudio\n",
    "import struct\n",
    "import numpy as np\n",
    "import matplotlib.pyplot as plt\n",
    "\n",
    "#open new window\n",
    "%matplotlib tk\n",
    "\n",
    "#number of audio samples per frame displayed\n",
    "#4096 samples per chunk\n",
    "CHUNK = 1024*4\n",
    "FORMAT = pyaudio.paInt16\n",
    "CHANNELS = 1 #monosound\n",
    "\n",
    "RATE = 44100 #hz. samples per second"
   ]
  },
  {
   "cell_type": "code",
   "execution_count": 3,
   "metadata": {
    "collapsed": true
   },
   "outputs": [],
   "source": [
    "import random, time\n",
    "from tkinter import TclError"
   ]
  },
  {
   "cell_type": "code",
   "execution_count": 4,
   "metadata": {
    "scrolled": true
   },
   "outputs": [],
   "source": [
    "#class instance\n",
    "p = pyaudio.PyAudio()\n",
    "\n",
    "#stream object\n",
    "stream=p.open(format=FORMAT, channels=CHANNELS, rate=RATE, input=True, \n",
    "             output=True, frames_per_buffer=CHUNK)\n",
    "\n",
    "#len(data) = 8192, double of chunk so need to multiply CHUNK by 2\n",
    "data = stream.read(CHUNK) #read 1 chunk\n",
    "data_int = np.array(struct.unpack(str(2*CHUNK) + 'B', data), dtype='b')[::2] +127\n",
    "#slice: take every other point in the array and throw rest out\n",
    "#data_int\n",
    "#dtype = B: int from 0 to 255, add 127 so it wraps back around\n",
    "\n"
   ]
  },
  {
   "cell_type": "code",
   "execution_count": 7,
   "metadata": {
    "collapsed": true
   },
   "outputs": [],
   "source": [
    "frame_count=0\n",
    "start_time=time.time()"
   ]
  },
  {
   "cell_type": "code",
   "execution_count": 8,
   "metadata": {},
   "outputs": [
    {
     "name": "stderr",
     "output_type": "stream",
     "text": [
      "C:\\Users\\chenjf\\Anaconda3\\lib\\site-packages\\ipykernel_launcher.py:13: DeprecationWarning: The binary mode of fromstring is deprecated, as it behaves surprisingly on unicode inputs. Use frombuffer instead\n",
      "  del sys.path[0]\n"
     ]
    },
    {
     "name": "stdout",
     "output_type": "stream",
     "text": [
      "stream stopped\n",
      "average frame rate = 9 FPS\n"
     ]
    }
   ],
   "source": [
    "#plot\n",
    "\n",
    "fig, ax = plt.subplots()\n",
    "\n",
    "x=np.arange(0, 4*CHUNK, 4) #step size 2\n",
    "line, = ax.plot(x, np.random.rand(CHUNK))\n",
    "ax.set_ylim(-10000, 10000)\n",
    "ax.set_xlim(0, CHUNK)\n",
    "\n",
    "while True:\n",
    "    data = stream.read(CHUNK) #read 1 chunk\n",
    "    #data_int = np.array(struct.unpack(str(2*CHUNK) + 'B', data), dtype='b')[::2]+128\n",
    "    data_int = np.fromstring(data, dtype=np.int16) +126\n",
    "    line.set_ydata(data_int)\n",
    "    \n",
    "    try:\n",
    "        fig.canvas.draw()\n",
    "        fig.canvas.flush_events()\n",
    "        frame_count = frame_count + 1\n",
    "        \n",
    "    except TclError:\n",
    "        frame_rate = frame_count/(time.time() - start_time)\n",
    "        print(\"stream stopped\")\n",
    "        print('average frame rate = {:.0f} FPS'.format(frame_rate))\n",
    "        break\n",
    "        \n",
    "    \n",
    "\n"
   ]
  },
  {
   "cell_type": "code",
   "execution_count": null,
   "metadata": {
    "collapsed": true
   },
   "outputs": [],
   "source": []
  },
  {
   "cell_type": "code",
   "execution_count": null,
   "metadata": {},
   "outputs": [],
   "source": []
  },
  {
   "cell_type": "code",
   "execution_count": null,
   "metadata": {},
   "outputs": [],
   "source": []
  },
  {
   "cell_type": "code",
   "execution_count": null,
   "metadata": {
    "collapsed": true
   },
   "outputs": [],
   "source": []
  }
 ],
 "metadata": {
  "kernelspec": {
   "display_name": "Python 3",
   "language": "python",
   "name": "python3"
  },
  "language_info": {
   "codemirror_mode": {
    "name": "ipython",
    "version": 3
   },
   "file_extension": ".py",
   "mimetype": "text/x-python",
   "name": "python",
   "nbconvert_exporter": "python",
   "pygments_lexer": "ipython3",
   "version": "3.6.3"
  }
 },
 "nbformat": 4,
 "nbformat_minor": 2
}
