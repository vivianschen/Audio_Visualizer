{
 "cells": [
  {
   "cell_type": "code",
   "execution_count": 130,
   "metadata": {},
   "outputs": [],
   "source": [
    "import pyaudio, wave, sys\n",
    "import struct\n",
    "import numpy as np\n",
    "import matplotlib.pyplot as plt\n",
    "import matplotlib as mpl\n",
    "import seaborn as sns\n",
    "\n",
    "#open new window\n",
    "%matplotlib tk\n",
    "\n",
    "#number of audio samples per frame displayed\n",
    "#4096 samples per chunk\n",
    "CHUNK = 1024*4 #lower -> faster\n",
    "FORMAT = pyaudio.paInt16\n",
    "CHANNELS = 1 #monosound\n",
    "\n",
    "RATE = 44100 #hz. samples per second"
   ]
  },
  {
   "cell_type": "code",
   "execution_count": 124,
   "metadata": {
    "collapsed": true
   },
   "outputs": [],
   "source": [
    "import random, time\n",
    "from tkinter import TclError"
   ]
  },
  {
   "cell_type": "code",
   "execution_count": 141,
   "metadata": {
    "collapsed": true
   },
   "outputs": [],
   "source": [
    "# open the file for reading.\n",
    "wf = wave.open('ukiyo.wav', 'rb')\n",
    "\n",
    "# create an audio object\n",
    "p = pyaudio.PyAudio()\n",
    "\n",
    "\n",
    "stream=p.open(format=p.get_format_from_width(wf.getsampwidth()), \n",
    "              channels=wf.getnchannels(), rate=wf.getframerate(), input=True, \n",
    "             output=True, frames_per_buffer=1024)"
   ]
  },
  {
   "cell_type": "code",
   "execution_count": 142,
   "metadata": {},
   "outputs": [
    {
     "name": "stdout",
     "output_type": "stream",
     "text": [
      "stream started\n"
     ]
    },
    {
     "name": "stderr",
     "output_type": "stream",
     "text": [
      "C:\\Users\\chenjf\\Anaconda3\\lib\\site-packages\\ipykernel_launcher.py:31: DeprecationWarning: The binary mode of fromstring is deprecated, as it behaves surprisingly on unicode inputs. Use frombuffer instead\n"
     ]
    },
    {
     "name": "stdout",
     "output_type": "stream",
     "text": [
      "stream stopped\n",
      "average frame rate = 10 FPS\n"
     ]
    }
   ],
   "source": [
    "mpl.style.use('seaborn')\n",
    "sns.set(style=\"darkgrid\")\n",
    "fig, ax = plt.subplots()\n",
    "\n",
    "\n",
    "x=np.arange(0, 16*CHUNK, 8) #step size 2\n",
    "line, = ax.plot(x, np.random.rand(2*CHUNK), lw=1)\n",
    "ax.set_ylim(-100000, 100000)\n",
    "ax.set_xlim(0, CHUNK)\n",
    "ax.get_xaxis().set_visible(False)\n",
    "#ax.get_yaxis().set_visible(True)\n",
    "ax.yaxis.set_ticklabels([])\n",
    "\n",
    "ax.patch.set_facecolor('black')\n",
    "ax.patch.set_alpha(.5) #transparency\n",
    "\n",
    "\n",
    "line.set_color(\"white\")\n",
    "colors = [\"#330099\", \"#333399\", \"#3300CC\", \"#3333CC\", \"#333099\", \n",
    "       \"#333999\", \"#400099\", \"#260099\"]\n",
    "\n",
    "\n",
    "frame_count=0\n",
    "start_time=time.time()\n",
    "\n",
    "print('stream started')\n",
    "\n",
    "while True:\n",
    "    data = wf.readframes(CHUNK) #read 1 chunk\n",
    "    #data_int = np.array(struct.unpack(str(4*CHUNK) + 'B', data), dtype='b')[::2]+300\n",
    "    data_int = np.fromstring(data, dtype=np.int16)  #frombuffer also works\n",
    "    \n",
    "    line.set_ydata(data_int)\n",
    "    try:\n",
    "        fig.canvas.draw()\n",
    "        fig.canvas.flush_events()\n",
    "        \n",
    "        #write to stream to play sound\n",
    "        stream.write(data)\n",
    "        frame_count = frame_count + 1\n",
    "        \n",
    "        #random background color\n",
    "        ax.patch.set_facecolor(random.choice(colors))\n",
    "        \n",
    "    except TclError:\n",
    "        frame_rate = frame_count/(time.time() - start_time)\n",
    "        print(\"stream stopped\")\n",
    "        print('average frame rate = {:.0f} FPS'.format(frame_rate))\n",
    "        break\n",
    "        \n",
    "    \n",
    "\n",
    "\n",
    "# cleanup stuff:\n",
    "#stream.close()    \n",
    "#p.terminate()"
   ]
  },
  {
   "cell_type": "code",
   "execution_count": null,
   "metadata": {},
   "outputs": [],
   "source": [
    "i = \"89797\"\n",
    "for x in range(0, 10):\n",
    "    i = int(i) + 1\n",
    "    print(\"#\",int(i)+1, sep='')"
   ]
  },
  {
   "cell_type": "code",
   "execution_count": null,
   "metadata": {
    "collapsed": true
   },
   "outputs": [],
   "source": []
  }
 ],
 "metadata": {
  "kernelspec": {
   "display_name": "Python 3",
   "language": "python",
   "name": "python3"
  },
  "language_info": {
   "codemirror_mode": {
    "name": "ipython",
    "version": 3
   },
   "file_extension": ".py",
   "mimetype": "text/x-python",
   "name": "python",
   "nbconvert_exporter": "python",
   "pygments_lexer": "ipython3",
   "version": "3.6.3"
  }
 },
 "nbformat": 4,
 "nbformat_minor": 2
}
